{
  "nbformat": 4,
  "nbformat_minor": 0,
  "metadata": {
    "colab": {
      "name": "ch8_exercises_PB02.ipynb",
      "provenance": [],
      "collapsed_sections": [],
      "include_colab_link": true
    },
    "kernelspec": {
      "name": "python3",
      "display_name": "Python 3"
    }
  },
  "cells": [
    {
      "cell_type": "markdown",
      "metadata": {
        "id": "view-in-github",
        "colab_type": "text"
      },
      "source": [
        "<a href=\"https://colab.research.google.com/github/alsrn36533/PB02/blob/main/ch8/ch8_exercises_PB02.ipynb\" target=\"_parent\"><img src=\"https://colab.research.google.com/assets/colab-badge.svg\" alt=\"Open In Colab\"/></a>"
      ]
    },
    {
      "cell_type": "markdown",
      "metadata": {
        "id": "ovY5jkD5dpxE"
      },
      "source": [
        "# ch8_exercises.ipynb"
      ]
    },
    {
      "cell_type": "markdown",
      "metadata": {
        "id": "SZw6UnxQWYBe"
      },
      "source": [
        "Q1. 문자열 바꾸기\n",
        "> 다음과 같은 문자열이 있다.\n",
        "\n",
        "```\n",
        "a:b:c:d\n",
        "```\n",
        "\n",
        "> 문자열의 split와 join 함수를 사용하여 위 문자열을 다음과 같이 고치시오.\n",
        "\n",
        "```\n",
        "a#b#c#d\n",
        "```\n"
      ]
    },
    {
      "cell_type": "code",
      "metadata": {
        "id": "rUNNaqJPdg7B",
        "colab": {
          "base_uri": "https://localhost:8080/",
          "height": 36
        },
        "outputId": "9ecaed6c-60b6-483b-8a7b-f0c2a9e65064"
      },
      "source": [
        "# [Q1] Code-1 \n",
        "a= \"a:b:c:d\"\n",
        "b=a.split(\":\")\n",
        "c=\"#\".join(b)   \n",
        "c\n"
      ],
      "execution_count": 1,
      "outputs": [
        {
          "output_type": "execute_result",
          "data": {
            "application/vnd.google.colaboratory.intrinsic+json": {
              "type": "string"
            },
            "text/plain": [
              "'a#b#c#d'"
            ]
          },
          "metadata": {
            "tags": []
          },
          "execution_count": 1
        }
      ]
    },
    {
      "cell_type": "code",
      "metadata": {
        "id": "x0OIIHRmDwtd",
        "colab": {
          "base_uri": "https://localhost:8080/",
          "height": 36
        },
        "outputId": "971535d1-4c1d-47e4-eae0-602c54e6c0a4"
      },
      "source": [
        "# [Q1] Code-2\n",
        "a = \"a:b:c:d\"  \n",
        "b = a.replace(\":\", \"#\")\n",
        "b"
      ],
      "execution_count": 4,
      "outputs": [
        {
          "output_type": "execute_result",
          "data": {
            "application/vnd.google.colaboratory.intrinsic+json": {
              "type": "string"
            },
            "text/plain": [
              "'a#b#c#d'"
            ]
          },
          "metadata": {
            "tags": []
          },
          "execution_count": 4
        }
      ]
    },
    {
      "cell_type": "markdown",
      "metadata": {
        "id": "re2-XrUYXF1m"
      },
      "source": [
        "## Q2. 딕셔너리 값 추출하기\n",
        "> 다음은 딕셔너리의 a에서 'C'라는 key에 해당하는 value를 출력하는 프로그램이다.\n",
        "```\n",
        ">>> a = {'A':90, 'B':80}\n",
        ">>> a['C']\n",
        "Traceback (most recent call last):\n",
        "  File \"<stdin>\", line 1, in <module>\n",
        "KeyError: 'C'\n",
        "```\n",
        ">> a 딕셔너리에는 'C'라는 key가 없으므로 위와 같은 오류가 발생한다.  \n",
        ">>'C'에 해당하는 key 값이 없을 경우 오류 대신 70을 얻을 수 있도록 수정하시오."
      ]
    },
    {
      "cell_type": "code",
      "metadata": {
        "id": "5MBLUZ5WXF1q",
        "colab": {
          "base_uri": "https://localhost:8080/"
        },
        "outputId": "1841f0d4-6a94-47ae-80b6-1c9caccc2ce4"
      },
      "source": [
        "# [Q2] Code-1\n",
        "a = {'A':90, 'B':80}\n",
        "a.get('C', 70)"
      ],
      "execution_count": 5,
      "outputs": [
        {
          "output_type": "execute_result",
          "data": {
            "text/plain": [
              "70"
            ]
          },
          "metadata": {
            "tags": []
          },
          "execution_count": 5
        }
      ]
    },
    {
      "cell_type": "code",
      "metadata": {
        "id": "viVk7IDSEQZX",
        "colab": {
          "base_uri": "https://localhost:8080/"
        },
        "outputId": "452ee723-62a1-46fe-9238-59eabb839f6f"
      },
      "source": [
        "# [Q2] Code-2\n",
        "a = {'A':90, 'B':80}\n",
        "a['C'] = 70        \n",
        "a['C']"
      ],
      "execution_count": 6,
      "outputs": [
        {
          "output_type": "execute_result",
          "data": {
            "text/plain": [
              "70"
            ]
          },
          "metadata": {
            "tags": []
          },
          "execution_count": 6
        }
      ]
    },
    {
      "cell_type": "markdown",
      "metadata": {
        "id": "UZy8lu_BXGnT"
      },
      "source": [
        "## Q3. 리스트의 더하기와 extend 함수\n",
        "> 다음과 같은 리스트 a가 있다.\n",
        "```\n",
        "a = [1, 2, 3]\n",
        "```\n",
        "> 리스트 a에 [4, 5]를 + 기호를 사용하여 더한 결과는 다음과 같다.\n",
        "```\n",
        ">>> a = [1, 2, 3]\n",
        ">>> a = a + [4,5]\n",
        ">>> a\n",
        "[1, 2, 3, 4, 5]\n",
        "```\n",
        "> 리스트 a에 [4,5]를 extend를 사용하여 더한 결과는 다음과 같다.\n",
        "```\n",
        ">>> a = [1, 2, 3]\n",
        ">>> a.extend([4, 5])\n",
        ">>> a\n",
        "[1, 2, 3, 4, 5]\n",
        "```\n",
        "\n",
        "> ### + 기호를 사용하여 더한 것과 extend한 것의 차이점이 있을까? 있다면 그 차이점을 설명하시오."
      ]
    },
    {
      "cell_type": "code",
      "metadata": {
        "id": "H9T_sXHzXGnW",
        "colab": {
          "base_uri": "https://localhost:8080/"
        },
        "outputId": "8643a819-773f-400d-89ea-fe1eea5f10de"
      },
      "source": [
        "# [Q3] Explain (코드와 주석으로 설명하시오)\n",
        "a = [1, 2, 3]\n",
        "print(id(a))   \n",
        "\n",
        "a = [1, 2, 3] \n",
        "a = a + [4,5]\n",
        "print(id(a))       \n",
        "## 위에서 리스트a의 주소는140444977756352 이것이되는데 +기호를 사용해서 더한뒤 결과를 내면 주소가 140444977754752 이주소로 바뀌어서 출력이 된다"
      ],
      "execution_count": 8,
      "outputs": [
        {
          "output_type": "stream",
          "text": [
            "140444977756352\n",
            "140444977754752\n"
          ],
          "name": "stdout"
        }
      ]
    },
    {
      "cell_type": "code",
      "metadata": {
        "colab": {
          "base_uri": "https://localhost:8080/"
        },
        "id": "RJAPIqFRm4b4",
        "outputId": "793f3502-42cc-4a24-c7fd-bb3943f0cde5"
      },
      "source": [
        "a = [1, 2, 3]\n",
        "print(id(a)) \n",
        "\n",
        "a.extend([4, 5])\n",
        "print(id(a))\n",
        "## 여기서는 위 주소는140444977891440 이것으로 나온다. 그리고 extend를 사용해서 [4,5]를 더한뒤 주소를 보면140444977891440이렇게 나와서 주소가 같다. "
      ],
      "execution_count": 9,
      "outputs": [
        {
          "output_type": "stream",
          "text": [
            "140444977891440\n",
            "140444977891440\n"
          ],
          "name": "stdout"
        }
      ]
    },
    {
      "cell_type": "markdown",
      "metadata": {
        "id": "fqypxxqTXHY7"
      },
      "source": [
        "## Q4. 리스트 총합 구하기\n",
        "> 다음은 A학급 학생의 점수를 나타내는 리스트이다. 다음 리스트에서 50점 이상 점수의 총합을 구하시오.\n",
        "```\n",
        "A = [20, 55, 67, 82, 45, 33, 90, 87, 100, 25]\n",
        "```"
      ]
    },
    {
      "cell_type": "code",
      "metadata": {
        "id": "oQ5UnmayXHY-",
        "colab": {
          "base_uri": "https://localhost:8080/"
        },
        "outputId": "68dcc0a1-8658-43ee-cd7c-5a1e9c1430ea"
      },
      "source": [
        "# [Q4] Code-1\n",
        "A = [20, 55, 67, 82, 45, 33, 90, 87, 100, 25]\n",
        "result = 0\n",
        "for a in A:\n",
        "    if a >= 50:\n",
        "        result =result + a\n",
        "\n",
        "print(result)"
      ],
      "execution_count": 11,
      "outputs": [
        {
          "output_type": "stream",
          "text": [
            "481\n"
          ],
          "name": "stdout"
        }
      ]
    },
    {
      "cell_type": "code",
      "metadata": {
        "id": "pMQ1e6jpFomt",
        "colab": {
          "base_uri": "https://localhost:8080/"
        },
        "outputId": "9e66744d-9c60-428b-dfbe-81222c37ff83"
      },
      "source": [
        "# [Q4] Code-2\n",
        "A = [20, 55, 67, 82, 45, 33, 90, 87, 100, 25]\n",
        "result = 0\n",
        "while A:              \n",
        "    num = A.pop()     \n",
        "    if num >= 50:      \n",
        "        result += num\n",
        "\n",
        "print(result)"
      ],
      "execution_count": 12,
      "outputs": [
        {
          "output_type": "stream",
          "text": [
            "481\n"
          ],
          "name": "stdout"
        }
      ]
    },
    {
      "cell_type": "markdown",
      "metadata": {
        "id": "NKsvciXZXIL-"
      },
      "source": [
        "## Q5. 피보나치 함수\n",
        "> 첫 번째 항의 값이 0이고 두 번째 항의 값이 1일 때, 이후에 이어지는 항은 이전의 두 항을 더한 값으로 이루어지는 수열을 피보나치 수열이라고 한다.\n",
        "```\n",
        "0, 1, 1, 2, 3, 5, 8, 13, 21, ...\n",
        "```\n",
        "> 입력을 정수 n으로 받았을 때, n 이하까지의 피보나치 수열을 출력하는 함수를 작성해 보자.\n"
      ]
    },
    {
      "cell_type": "code",
      "metadata": {
        "id": "5MZQYOVjXIL_",
        "colab": {
          "base_uri": "https://localhost:8080/"
        },
        "outputId": "ca832361-e5ea-4b86-cd72-0d1dafc5776b"
      },
      "source": [
        "# [Q5] Code-1\n",
        "def fib(n):\n",
        "    if n == 0 : return 0     \n",
        "    if n == 1 : return 1          \n",
        "    return fib(n-2) + fib(n-1)    \n",
        "\n",
        "for i in range(10):\n",
        "    print(fib(i))"
      ],
      "execution_count": 13,
      "outputs": [
        {
          "output_type": "stream",
          "text": [
            "0\n",
            "1\n",
            "1\n",
            "2\n",
            "3\n",
            "5\n",
            "8\n",
            "13\n",
            "21\n",
            "34\n"
          ],
          "name": "stdout"
        }
      ]
    },
    {
      "cell_type": "code",
      "metadata": {
        "id": "JH2Rm_TkF_eu",
        "colab": {
          "base_uri": "https://localhost:8080/"
        },
        "outputId": "bf248b40-6b05-4b44-e3fc-22d5b84548d1"
      },
      "source": [
        "# [Q5] Code-2\n",
        "num = int(input(\"피보나치수열의 최댓값:\"))\n",
        "result = 0   \n",
        "two = 1      \n",
        "\n",
        "if num > 0: \n",
        " while result <= num:                \n",
        "    print(result ,end = \" \")         \n",
        "    one = result                     \n",
        "    result = two                 \n",
        "    two = one + two                    "
      ],
      "execution_count": 15,
      "outputs": [
        {
          "output_type": "stream",
          "text": [
            "피보나치수열의 최댓값:30\n",
            "0 1 1 2 3 5 8 13 21 "
          ],
          "name": "stdout"
        }
      ]
    },
    {
      "cell_type": "markdown",
      "metadata": {
        "id": "-3KHtOOoXJBV"
      },
      "source": [
        "## Q6. 숫자의 총합 구하기\n",
        "> 사용자로부터 다음과 같은 숫자를 입력받아 입력받은 숫자의 총합을 구하는 프로그램을 작성하시오. (단 숫자는 콤마로 구분하여 입력한다.)\n",
        "\n",
        "```\n",
        "65,45,2,3,45,8\n",
        "```\n"
      ]
    },
    {
      "cell_type": "code",
      "metadata": {
        "id": "AjYR0lUaXJBa",
        "colab": {
          "base_uri": "https://localhost:8080/"
        },
        "outputId": "6b57c3f2-b199-4a46-8076-3513f4f10a62"
      },
      "source": [
        "# [Q6] Code-1\n",
        "user_input = input(\"숫자를 입력하세요: \")\n",
        "numbers = user_input.split(\",\")\n",
        "total = 0\n",
        "for n in numbers:\n",
        "    total += int(n)    \n",
        "print(total)"
      ],
      "execution_count": 16,
      "outputs": [
        {
          "output_type": "stream",
          "text": [
            "숫자를 입력하세요: 65,45,2,3,45,8\n",
            "168\n"
          ],
          "name": "stdout"
        }
      ]
    },
    {
      "cell_type": "code",
      "metadata": {
        "id": "JpkVe0zxGTK1",
        "colab": {
          "base_uri": "https://localhost:8080/"
        },
        "outputId": "54b206a3-7ccd-486a-8b26-7862f0e30d35"
      },
      "source": [
        "# [Q6] Code-2\n",
        "numbers = map(int, input(\"숫자를 입력하세요: \").split(\",\")) \n",
        "total = sum(numbers) \n",
        "print(total)"
      ],
      "execution_count": 17,
      "outputs": [
        {
          "output_type": "stream",
          "text": [
            "숫자를 입력하세요: 65,45,2,3,45,8\n",
            "168\n"
          ],
          "name": "stdout"
        }
      ]
    },
    {
      "cell_type": "markdown",
      "metadata": {
        "id": "CiMJjZQ_GdyV"
      },
      "source": [
        "## Q7. 한 줄 구구단\n",
        "> 사용자로부터 2~9의 숫자 중 하나를 입력받아 해당 숫자의 구구단을 한 줄로 출력하는 프로그램을 작성하시오.\n",
        "\n",
        "> 실행 예)\n",
        "```\n",
        "구구단을 출력할 숫자를 입력하세요(2~9): 2\n",
        "2 4 6 8 10 12 14 16 18\n",
        "```\n"
      ]
    },
    {
      "cell_type": "code",
      "metadata": {
        "id": "_8TQZNIwGdyo",
        "colab": {
          "base_uri": "https://localhost:8080/"
        },
        "outputId": "a15d6887-6994-4982-df81-6084ea271620"
      },
      "source": [
        "# [Q7] Code-1\n",
        "GuGu_input = input(\"구구단을 출력할 숫자를 입력하세요(2~9) : \")\n",
        "\n",
        "dan = int(GuGu_input)\n",
        "\n",
        "for i in range(1, 10):\n",
        "    print(i*dan, end= ' ')"
      ],
      "execution_count": 18,
      "outputs": [
        {
          "output_type": "stream",
          "text": [
            "구구단을 출력할 숫자를 입력하세요(2~9) : 5\n",
            "5 10 15 20 25 30 35 40 45 "
          ],
          "name": "stdout"
        }
      ]
    },
    {
      "cell_type": "code",
      "metadata": {
        "id": "HRX-wvenGdyx",
        "colab": {
          "base_uri": "https://localhost:8080/"
        },
        "outputId": "c4b82115-bc92-4c54-f3c2-674731beed4c"
      },
      "source": [
        "# [Q7] Code-2\n",
        "A = input(\"구구단을 출력할 숫자를 입력하세요(2~9) : \")\n",
        "number = int(A)\n",
        "i=1\n",
        "\n",
        "while(i<10):\n",
        "  print(i*number,end=' ')\n",
        "  i = i + 1"
      ],
      "execution_count": 19,
      "outputs": [
        {
          "output_type": "stream",
          "text": [
            "구구단을 출력할 숫자를 입력하세요(2~9) : 5\n",
            "5 10 15 20 25 30 35 40 45 "
          ],
          "name": "stdout"
        }
      ]
    },
    {
      "cell_type": "markdown",
      "metadata": {
        "id": "YrS3b88QbmKo"
      },
      "source": [
        "## Q8. 역순 저장\n",
        "> 다음과 같은 내용의 파일 abc.txt가 있다.\n",
        "```\n",
        "AAA\n",
        "BBB\n",
        "CCC\n",
        "DDD\n",
        "EEE\n",
        "```\n",
        "> 이 파일의 내용을 다음과 같이 역순으로 바꾸어 저장하시오.\n",
        "```\n",
        "EEE\n",
        "DDD\n",
        "CCC\n",
        "BBB\n",
        "AAA\n",
        "```"
      ]
    },
    {
      "cell_type": "code",
      "metadata": {
        "id": "Ll_2InMWbmKq"
      },
      "source": [
        "# [Q8] Code-1\n",
        "f = open('abc.txt', 'r')\n",
        "lines = f.readlines()    # 모든 라인을 읽음\n",
        "f.close()\n",
        "\n",
        "lines.reverse()          # 읽은 라인을 역순으로 정렬\n",
        "\n",
        "f = open('abc.txt', 'w')\n",
        "for line in lines:\n",
        "    line = line.strip()  # 포함되어 있는 줄 바꿈 문자 제거\n",
        "    f.write(line)\n",
        "    f.write('\\n')        # 줄 바꿈 문자 삽입\n",
        "f.close()"
      ],
      "execution_count": 25,
      "outputs": []
    },
    {
      "cell_type": "code",
      "metadata": {
        "id": "N3uG53JsHIYX",
        "colab": {
          "base_uri": "https://localhost:8080/"
        },
        "outputId": "96e46bae-0153-4222-a75b-74db7981206d"
      },
      "source": [
        "# [Q8] Code-2\n",
        "f = open(\"abc.txt\",'r')\n",
        "line=f.read()\n",
        "print(line)      # 파일 안 내용이 역순으로 입력되어 있는 것을 확인 가능\n",
        "f.close()\n"
      ],
      "execution_count": 26,
      "outputs": [
        {
          "output_type": "stream",
          "text": [
            "EEE\n",
            "DDD\n",
            "CCC\n",
            "BBB\n",
            "AAA\n",
            "\n"
          ],
          "name": "stdout"
        }
      ]
    },
    {
      "cell_type": "code",
      "metadata": {
        "colab": {
          "base_uri": "https://localhost:8080/"
        },
        "id": "K-e9O-wYtESz",
        "outputId": "ab7a745c-0012-4fa3-9bfc-51ff00dae93e"
      },
      "source": [
        "f = open(\"abc.txt\", 'r')\n",
        "lines = f.readlines()\n",
        "f.close()\n",
        "\n",
        "for line in reversed(open(\"abc.txt\").readlines()) :\n",
        "  print(line.rstrip())"
      ],
      "execution_count": 27,
      "outputs": [
        {
          "output_type": "stream",
          "text": [
            "EEE\n",
            "DDD\n",
            "CCC\n",
            "BBB\n",
            "AAA\n"
          ],
          "name": "stdout"
        }
      ]
    },
    {
      "cell_type": "markdown",
      "metadata": {
        "id": "OcSDHHYkK6lZ"
      },
      "source": [
        "## Q9. 평균값 구하기\n",
        "> 다음과 같이 총 10줄로 이루어진 sample.txt 파일이 있다. sample.txt 파일의 숫자 값을 모두 읽어 총합과 평균 값을 구한 후 평균 값을 result.txt 파일에 쓰는 프로그램을 작성하시오.\n",
        "```\n",
        "70\n",
        "60\n",
        "55\n",
        "75\n",
        "95\n",
        "90\n",
        "80\n",
        "80\n",
        "85\n",
        "100\n",
        "```\n"
      ]
    },
    {
      "cell_type": "code",
      "metadata": {
        "id": "GmaaVGqrK6le",
        "colab": {
          "base_uri": "https://localhost:8080/"
        },
        "outputId": "4a9bc5af-067c-40e6-c7ca-03c0c67b4326"
      },
      "source": [
        "# [Q9] Code-1\n",
        "f = open(\"sample.txt\",'r')\n",
        "grade = f.readlines()\n",
        "grade = list(map(int, grade))\n",
        "\n",
        "Sum = sum(grade)\n",
        "average = Sum/len(grade)\n",
        "print(\"총합: %d\"%Sum)\n",
        "\n",
        "f = open(\"result.txt\", \"w\")\n",
        "f.write(str(average))       \n",
        "f.close()\n",
        "\n",
        "f = open(\"result.txt\",\"r\")\n",
        "average = f.read()\n",
        "print(\"평균:\",average)\n",
        "f.close()\n"
      ],
      "execution_count": 30,
      "outputs": [
        {
          "output_type": "stream",
          "text": [
            "총합: 790\n",
            "평균: 79.0\n"
          ],
          "name": "stdout"
        }
      ]
    },
    {
      "cell_type": "code",
      "metadata": {
        "id": "kgMy9LVYHfRF",
        "colab": {
          "base_uri": "https://localhost:8080/"
        },
        "outputId": "dc64203e-4229-45de-9ae7-8e5cc5c069b3"
      },
      "source": [
        "# [Q9] Code-2\n",
        "f = open(\"sample.txt\")\n",
        "grade = f.readlines( )         \n",
        "Sum = 0\n",
        "\n",
        "for num in grade:\n",
        "    score = int(num)         \n",
        "    Sum += score\n",
        "average = Sum / len(grade)\n",
        "print(Sum)\n",
        "\n",
        "f = open(\"result.txt\", \"w\")\n",
        "f.write(str(average))        \n",
        "f.close()\n",
        "\n",
        "f = open(\"result.txt\",\"r\")\n",
        "grade_average = f.read()\n",
        "print(grade_average)\n",
        "f.close()\n"
      ],
      "execution_count": 31,
      "outputs": [
        {
          "output_type": "stream",
          "text": [
            "790\n",
            "79.0\n"
          ],
          "name": "stdout"
        }
      ]
    },
    {
      "cell_type": "markdown",
      "metadata": {
        "id": "anwB_DjuK60j"
      },
      "source": [
        "## Q10. 사칙연산 계산기\n",
        "> 다음과 같이 동작하는 클래스 Calculator를 작성하시오.\n",
        "```\n",
        ">>> cal1 = Calculator([1,2,3,4,5])\n",
        ">>> cal1.sum() # 합계\n",
        "15\n",
        ">>> cal1.avg() # 평균\n",
        "3.0\n",
        ">>> cal2 = Calculator([6,7,8,9,10])\n",
        ">>> cal2.sum() # 합계\n",
        "40\n",
        ">>> cal2.avg() # 평균\n",
        "8.0\n",
        "```\n"
      ]
    },
    {
      "cell_type": "code",
      "metadata": {
        "id": "QJTNoSqtMrIM",
        "colab": {
          "base_uri": "https://localhost:8080/"
        },
        "outputId": "da66ac2a-8d7d-4bcd-85cc-ff23389b0a62"
      },
      "source": [
        "# [Q10] Code-1\n",
        "class Calculator:\n",
        "    def __init__ (self, numberList): \n",
        "        self.numberList = numberList\n",
        "        \n",
        "    def sum(self): \n",
        "        result = 0\n",
        "        for num in self.numberList: \n",
        "            result += num\n",
        "        return result\n",
        "\n",
        "    def avg(self):\n",
        "        total = self.sum()\n",
        "        return total / len(self.numberList)\n",
        "\n",
        "cal1 = Calculator([1,2,3,4,5]) \n",
        "print (cal1.sum())\n",
        "print (cal1.avg())\n",
        "\n",
        "cal2 = Calculator([6,7,8,9,10]) \n",
        "print (cal2.sum())\n",
        "print (cal2.avg())"
      ],
      "execution_count": 32,
      "outputs": [
        {
          "output_type": "stream",
          "text": [
            "15\n",
            "3.0\n",
            "40\n",
            "8.0\n"
          ],
          "name": "stdout"
        }
      ]
    },
    {
      "cell_type": "code",
      "metadata": {
        "id": "91hia3WgH2gW",
        "colab": {
          "base_uri": "https://localhost:8080/"
        },
        "outputId": "426c53a3-6696-419b-ec3e-53604e3a1594"
      },
      "source": [
        "# [Q10] Code-2\n",
        "class Calculator:\n",
        "    def __init__ (self, value): \n",
        "        self.value = value\n",
        "        \n",
        "    def sum(self): \n",
        "        result = 0\n",
        "        for num in self.value: \n",
        "            result += num\n",
        "        return result\n",
        "\n",
        "class UpgradeCalculator(Calculator):\n",
        "  def avg(self):\n",
        "    total = self.sum()\n",
        "    return total / len(self.value)\n",
        "\n",
        "cal1 = UpgradeCalculator([1,2,3,4,5]) \n",
        "print (cal1.sum())\n",
        "print (cal1.avg())\n",
        "\n",
        "cal2 = UpgradeCalculator([6,7,8,9,10]) \n",
        "print (cal2.sum())\n",
        "print (cal2.avg())"
      ],
      "execution_count": 33,
      "outputs": [
        {
          "output_type": "stream",
          "text": [
            "15\n",
            "3.0\n",
            "40\n",
            "8.0\n"
          ],
          "name": "stdout"
        }
      ]
    },
    {
      "cell_type": "markdown",
      "metadata": {
        "id": "gNnjBaJvH_51"
      },
      "source": [
        "\n",
        "\n",
        "---\n",
        "\n",
        "\n"
      ]
    },
    {
      "cell_type": "markdown",
      "metadata": {
        "id": "8xQf6xJ4K7M_"
      },
      "source": [
        "## Q11. 모듈 사용 방법\n",
        "> ./doit 디렉터리에 mymod.py 파이썬 모듈이 있다고 가정해 보자. 명령 프롬프트 창에서 파이썬 셸을 열어 이 모듈을 import해서 사용할 수 있는 방법을 모두 기술하시오. (즉 다음과 같이 import mymod를 수행할 때 오류가 없어야 한다.)\n",
        "```\n",
        ">>> import mymod\n",
        ">>>\n",
        "```"
      ]
    },
    {
      "cell_type": "code",
      "metadata": {
        "id": "4zv7LXPjJiCH"
      },
      "source": [
        "!mkdir doit\n",
        "# 실행 후 새로 고침!\n",
        "# mymod.py 를 업로드한다."
      ],
      "execution_count": null,
      "outputs": []
    },
    {
      "cell_type": "code",
      "metadata": {
        "id": "JA_3n4g8JiB7"
      },
      "source": [
        "!mv mymod.py ./doit\n",
        "# 실행 후 새로 고침!"
      ],
      "execution_count": null,
      "outputs": []
    },
    {
      "cell_type": "code",
      "metadata": {
        "id": "UCO7aRh5Msx6"
      },
      "source": [
        "# [Q11] Code-1\n",
        "import os\n",
        "os.chdir(\"/content/doit\")  ## 디렉토리변경"
      ],
      "execution_count": null,
      "outputs": []
    },
    {
      "cell_type": "code",
      "metadata": {
        "id": "aX_wLb53IgUl"
      },
      "source": [
        "# [Q11] Code-2\n",
        "from doit import mymod ## doit 에서 mymod 가지고와서 사용함"
      ],
      "execution_count": null,
      "outputs": []
    },
    {
      "cell_type": "code",
      "metadata": {
        "id": "ELuSzxnGvXNY"
      },
      "source": [
        "import sys\n",
        "sys.path.append(\"/content/doit\")\n",
        "import mymod  ##새로운경로를 추가하고 mymod 사용함"
      ],
      "execution_count": null,
      "outputs": []
    },
    {
      "cell_type": "markdown",
      "metadata": {
        "id": "Q6QYCZ9HM3DW"
      },
      "source": [
        "## Q12. 오류와 예외 처리\n",
        "> 다음 코드의 실행 결과를 예측하고 그 이유에 대해 설명하시오.\n",
        "\n",
        "```\n",
        "result = 0\n",
        "\n",
        "try:\n",
        "    [1, 2, 3][3]\n",
        "    \"a\"+1\n",
        "    4 / 0\n",
        "except TypeError:\n",
        "    result += 1\n",
        "except ZeroDivisionError:\n",
        "    result += 2\n",
        "except IndexError:\n",
        "    result += 3\n",
        "finally:\n",
        "    result += 4\n",
        "\n",
        "print(result)\n",
        "```\n"
      ]
    },
    {
      "cell_type": "code",
      "metadata": {
        "id": "hDf0Js4KLOrl",
        "colab": {
          "base_uri": "https://localhost:8080/"
        },
        "outputId": "738ee9a8-bf50-4d1f-b0c4-ca69ca731b6f"
      },
      "source": [
        "# [Q12] Explain (코드와 주석으로 설명하시오)\n",
        "result = 0  #초기값 =0\n",
        " \n",
        "try:                   \n",
        "    [1, 2, 3][3]  #여기서 indexerror가 발생하고 except IndexError 로이동하게 되면서 result값에 3이 더해서 3이라는 값이 된다\n",
        "    \"a\"+1\n",
        "    4 / 0\n",
        "except TypeError:\n",
        "    result += 1\n",
        "except ZeroDivisionError:\n",
        "    result += 2\n",
        "except IndexError:\n",
        "    result += 3\n",
        "finally:\n",
        "    result += 4  # finally 는 구문이 에러가 나도 결과적으로 실행이되고 4라는값이 남아있어서 4가 된다 \n",
        " \n",
        "print(result)  # 그리고 결과는 3+4 가되사 7이 출력된다\n"
      ],
      "execution_count": 35,
      "outputs": [
        {
          "output_type": "stream",
          "text": [
            "7\n"
          ],
          "name": "stdout"
        }
      ]
    },
    {
      "cell_type": "markdown",
      "metadata": {
        "id": "x2IYgozSM3gd"
      },
      "source": [
        "## Q13. DashInsert 함수\n",
        "> DashInsert 함수는 숫자로 구성된 문자열을 입력받은 뒤 문자열 안에서 홀수가 연속되면 두 수 사이에 - 를 추가하고, 짝수가 연속되면 * 를 추가하는 기능을 갖고 있다. DashInsert 함수를 완성하시오.\n",
        "```\n",
        "입력 예시: 4546793\n",
        "출력 예시: 454*67-9-3\n",
        "```\n"
      ]
    },
    {
      "cell_type": "code",
      "metadata": {
        "id": "FiKNOu9HM3DX",
        "colab": {
          "base_uri": "https://localhost:8080/",
          "height": 36
        },
        "outputId": "80fa72dd-7d24-4b79-a2a8-e85db7534d03"
      },
      "source": [
        "# [Q13] Code-1\n",
        "def dash_insert(s):\n",
        "  result = ''\n",
        "  for i in range(len(s)):\n",
        "    result += s[i]\n",
        "    if i != 0 and i < len(s) -1 :\n",
        "      if int(s[i]) % 2 == 0 and int(s[i+1]) % 2 == 0:\n",
        "        result += '*'\n",
        "      elif int(s[i]) % 2 == 1 and int(s[i+1]) % 2 == 1:\n",
        "        result += '-'\n",
        "  return result\n",
        "\n",
        "dash_insert('4546793')"
      ],
      "execution_count": 44,
      "outputs": [
        {
          "output_type": "execute_result",
          "data": {
            "application/vnd.google.colaboratory.intrinsic+json": {
              "type": "string"
            },
            "text/plain": [
              "'454*67-9-3'"
            ]
          },
          "metadata": {
            "tags": []
          },
          "execution_count": 44
        }
      ]
    },
    {
      "cell_type": "code",
      "metadata": {
        "id": "d_hmy1RZLqBg",
        "colab": {
          "base_uri": "https://localhost:8080/"
        },
        "outputId": "59b3f25a-20ea-43b1-d6bf-c430ef5f062e"
      },
      "source": [
        "# [Q13] Code-2\n",
        "data = \"4546793\"\n",
        "numbers = list(map(int, data))   \n",
        "result = []\n",
        "\n",
        "for i, num in enumerate(numbers):\n",
        "    result.append(str(num))\n",
        "    if i < len(numbers)-1:                  \n",
        "        is_odd = num % 2 == 1             \n",
        "        is_next_odd = numbers[i+1] % 2 == 1  \n",
        "        if is_odd and is_next_odd:          \n",
        "            result.append(\"-\")\n",
        "        elif not is_odd and not is_next_odd: \n",
        "            result.append(\"*\")\n",
        "\n",
        "print(\"\".join(result))"
      ],
      "execution_count": 45,
      "outputs": [
        {
          "output_type": "stream",
          "text": [
            "454*67-9-3\n"
          ],
          "name": "stdout"
        }
      ]
    },
    {
      "cell_type": "markdown",
      "metadata": {
        "id": "HDbz71sNL2Qt"
      },
      "source": [
        "## Q14. 문자열 압축하기\n",
        "> 문자열을 입력받아 같은 문자가 연속적으로 반복되는 경우에 그 반복 횟수를 표시해 문자열을 압축하여 표시하시오.\n",
        "```\n",
        "입력 예시: aaabbcccccca\n",
        "출력 예시: a3b2c6a1\n",
        "```\n",
        "\n"
      ]
    },
    {
      "cell_type": "code",
      "metadata": {
        "id": "Hs88sVjjL2Qw",
        "colab": {
          "base_uri": "https://localhost:8080/"
        },
        "outputId": "0d9e1d20-12d5-47e9-ab38-4a5e1aad7381"
      },
      "source": [
        "# [Q14] Code-1\n",
        "s = input(\"문자열을 입력하세요: \")\n",
        "\n",
        "result = s[0]  \n",
        "count  = 0   \n",
        "\n",
        "for st in s:\n",
        "    if st == result[-1]:  \n",
        "        count += 1\n",
        "    else:\n",
        "        result += str(count) + st\n",
        "        count = 1\n",
        "result += str(count)\n",
        "\n",
        "print(result)"
      ],
      "execution_count": 42,
      "outputs": [
        {
          "output_type": "stream",
          "text": [
            "문자열을 입력하세요: aaabbcccccca\n",
            "a3b2c6a1\n"
          ],
          "name": "stdout"
        }
      ]
    },
    {
      "cell_type": "code",
      "metadata": {
        "id": "XF4F0DW0L2Q1",
        "colab": {
          "base_uri": "https://localhost:8080/",
          "height": 54
        },
        "outputId": "71cc9d90-ddd7-46ab-f0fc-4656fd80b54a"
      },
      "source": [
        "# [Q14] Code-2\n",
        "sum = input(\"문자열을 입력하세요.:\")\n",
        "def loop_string(s):\n",
        "    _c = \"\"\n",
        "    cnt = 0\n",
        "    result = \"\"\n",
        "    for c in s:\n",
        "        if c!=_c:                        # 처음 들어온 문자일경우\n",
        "            _c = c\n",
        "            if cnt: result += str(cnt)   \n",
        "            result += c                   \n",
        "            cnt = 1                      # 카운트를 1로 초기화\n",
        "        else: cnt +=1                    # 한번 들어왔던 문자일 경우 카운트\n",
        "    if cnt: result += str(cnt)           \n",
        "    return result\n",
        "\n",
        "loop_string(sum)\n"
      ],
      "execution_count": 43,
      "outputs": [
        {
          "output_type": "stream",
          "text": [
            "문자열을 입력하세요.:aaabbcccccca\n"
          ],
          "name": "stdout"
        },
        {
          "output_type": "execute_result",
          "data": {
            "application/vnd.google.colaboratory.intrinsic+json": {
              "type": "string"
            },
            "text/plain": [
              "'a3b2c6a1'"
            ]
          },
          "metadata": {
            "tags": []
          },
          "execution_count": 43
        }
      ]
    },
    {
      "cell_type": "markdown",
      "metadata": {
        "id": "tCF274jtL3Vk"
      },
      "source": [
        "## Q15. Duplicate Numbers\n",
        "> 0 ~ 9의 문자로 된 숫자를 입력받았을 때, 이 입력값이 0 ~ 9의 모든 숫자를 각각 한 번씩만 사용한 것인지 확인하는 함수를 작성하시오.\n",
        "```\n",
        "입력 예시: 0123456789 01234 01234567890 6789012345 012322456789\n",
        "출력 예시: true false false true false\n",
        "```\n"
      ]
    },
    {
      "cell_type": "code",
      "metadata": {
        "id": "3uQFw6jGL3Vm",
        "colab": {
          "base_uri": "https://localhost:8080/"
        },
        "outputId": "ddfbe3fa-2a1d-4cdf-a5e5-2e2d6ffb9d5d"
      },
      "source": [
        "# [Q15] Code-1\n",
        "def chkDupNum(s):\n",
        "    result = []\n",
        "    for num in s:\n",
        "        if num not in result:\n",
        "            result.append(num)\n",
        "        else:\n",
        "            return False\n",
        "    return len(result) == 10\n",
        "\n",
        "print(chkDupNum(\"0123456789\"))      # True 리턴\n",
        "print(chkDupNum(\"01234\"))           # False 리턴\n",
        "print(chkDupNum(\"01234567890\"))     # False 리턴\n",
        "print(chkDupNum(\"6789012345\"))      # True 리턴\n",
        "print(chkDupNum(\"012322456789\"))    # False 리턴"
      ],
      "execution_count": 40,
      "outputs": [
        {
          "output_type": "stream",
          "text": [
            "True\n",
            "False\n",
            "False\n",
            "True\n",
            "False\n"
          ],
          "name": "stdout"
        }
      ]
    },
    {
      "cell_type": "code",
      "metadata": {
        "id": "Bdt_UGgZL3Vr",
        "colab": {
          "base_uri": "https://localhost:8080/"
        },
        "outputId": "7596281f-72be-40d5-9bd2-ccd5ad4af5a7"
      },
      "source": [
        "# [Q15] Code-2\n",
        "def check_number(num):\n",
        "    for i in range(10):\n",
        "        if num.count(str(i)) != 1:\n",
        "            print(\"False\")\n",
        "            return\n",
        "\n",
        "    print(\"True\")\n",
        "\n",
        "check_number('0123456789')\n",
        "check_number('01234')\n",
        "check_number('01234567890')\n",
        "check_number('6789012345')\n",
        "check_number('012322456789')\n"
      ],
      "execution_count": 41,
      "outputs": [
        {
          "output_type": "stream",
          "text": [
            "True\n",
            "False\n",
            "False\n",
            "True\n",
            "False\n"
          ],
          "name": "stdout"
        }
      ]
    },
    {
      "cell_type": "markdown",
      "metadata": {
        "id": "QdPWKi1gL4UE"
      },
      "source": [
        "## Q16. 모스 부호 해독\n",
        "> 문자열 형식으로 입력받은 모스 부호(dot:. dash:-)를 해독하여 영어 문장으로 출력하는 프로그램을 작성하시오.\n",
        "\n",
        "- 글자와 글자 사이는 공백 1개, 단어와 단어 사이는 공백 2개로 구분한다.\n",
        "- 예를 들어 다음 모스 부호는 \"HE SLEEPS EARLY\"로 해석해야 한다.\n",
        "```\n",
        ".... .  ... .-.. . . .--. ...  . .- .-. .-.. -.--\n",
        "```\n",
        "> 모스부호 규칙 표\n",
        "```\n",
        "문자 부호\t문자   부호\n",
        "A\t .-\t    N\t    -.\n",
        "B\t -...\tO\t    ---\n",
        "C\t -.-.\tP\t    .--.\n",
        "D\t -..\tQ\t    --.-\n",
        "E\t .\t    R\t    .-.\n",
        "F\t ..-.\tS\t    ...\n",
        "G\t --.\tT\t    -\n",
        "H\t ....\tU\t    ..-\n",
        "I\t ..\t    V\t    ...-\n",
        "J\t .---\tW\t    .--\n",
        "K\t -.-\tX\t    -..-\n",
        "L\t .-..\tY\t    -.--\n",
        "M\t --\t    Z\t    --..\n",
        "```"
      ]
    },
    {
      "cell_type": "code",
      "metadata": {
        "id": "ciZbyRFrL4UF",
        "colab": {
          "base_uri": "https://localhost:8080/"
        },
        "outputId": "d00306b0-c523-4190-997f-77bdcbd8932a"
      },
      "source": [
        "# [Q16] Code-1\n",
        "Mos = {'.-': 'A', '-...': 'B', '-.-.': 'C', '-..': 'D', '.': 'E', \n",
        "'..-.': 'F', '--.': 'G', '....': 'H', '..': 'I', '.---': 'J', \n",
        "'-.-': 'K', '.-..': 'L', '--': 'M', '-.': 'N', '---': 'O', '.--.': 'P',\n",
        " '--.-': 'Q','.-.':'R','...':'S','-':'T','..-':'U','...-':'V','.--':'W',\n",
        " '-..-':'X','-.--':'Y','--..':'Z'}\n",
        "\n",
        "mos = '.... .  ... .-.. . . .--. ...  . .- .-. .-.. -.--'\n",
        "word = mos.split('  ')\n",
        "\n",
        "decode = ''\n",
        "\n",
        "for text in word :\n",
        "    t = text.split()\n",
        "    for i in t:\n",
        "        decode += Mos[i]\n",
        "    decode += ' '\n",
        "print(decode)\n"
      ],
      "execution_count": 36,
      "outputs": [
        {
          "output_type": "stream",
          "text": [
            "HE SLEEPS EARLY \n"
          ],
          "name": "stdout"
        }
      ]
    },
    {
      "cell_type": "code",
      "metadata": {
        "id": "x9-Qq3mVL4UJ",
        "colab": {
          "base_uri": "https://localhost:8080/"
        },
        "outputId": "473da510-f157-4558-d40c-9b1dc001e331"
      },
      "source": [
        "# [Q16] Code-2\n",
        "Mos = {'':' ','.-':'A','-...':'B','-.-.':'C','-..':'D','.':'E','..-.':'F','--.':'G','....':'H','..':'I','.---':'J','-.-':'K','.-..':'L','--':\n",
        "       'M','-.':'N','---':'O','.--.':'P','--.-':'Q','.-.':'R','...':'S','-':'T','..-':'U','...-':'V','.--':'W','-..-':'X','-.--':'Y','--..':'Z'}\n",
        "morse=\".... .  ... .-.. . . .--. ...  . .- .-. .-.. -.--\"\n",
        "word=morse.split(\" \")\n",
        "for i in word:\n",
        "    print(Mos[i],end=\"\")"
      ],
      "execution_count": 39,
      "outputs": [
        {
          "output_type": "stream",
          "text": [
            "HE SLEEPS EARLY"
          ],
          "name": "stdout"
        }
      ]
    },
    {
      "cell_type": "markdown",
      "metadata": {
        "id": "om4sRiRhMosn"
      },
      "source": [
        "\n",
        "\n",
        "---\n",
        "\n",
        "# 다음 정규식 문제는 기말고사 후에 도전해 보세요."
      ]
    },
    {
      "cell_type": "markdown",
      "metadata": {
        "id": "nazB2KXYOm5R"
      },
      "source": [
        "## Regular Expression\n",
        "- import re"
      ]
    },
    {
      "cell_type": "markdown",
      "metadata": {
        "id": "AN8kEO30L5NE"
      },
      "source": [
        "## Q17. 기초 메타 문자\n",
        "> 다음 중 정규식 a[.]{3,}b과 매치되는 문자열은 무엇일까?\n",
        "\n",
        "\n",
        "```\n",
        "acccb\n",
        "a....b\n",
        "aaab\n",
        "a.cccb\n",
        "```\n"
      ]
    },
    {
      "cell_type": "code",
      "metadata": {
        "id": "uKQWoUqhL5NG"
      },
      "source": [
        "# [Q17] Code\n",
        "\n"
      ],
      "execution_count": null,
      "outputs": []
    },
    {
      "cell_type": "markdown",
      "metadata": {
        "id": "0dEWfwATL6DE"
      },
      "source": [
        "## Q18. 문자열 검색\n",
        "> 다음 코드의 결괏값은 무엇일까?\n",
        "\n",
        "```\n",
        ">>> import re\n",
        ">>> p = re.compile(\"[a-z]+\")\n",
        ">>> m = p.search(\"5 python\")\n",
        ">>> m.start() + m.end()\n",
        "```\n"
      ]
    },
    {
      "cell_type": "code",
      "metadata": {
        "id": "Ip11Dmo7L6DH"
      },
      "source": [
        "# [Q18] Code\n",
        "\n"
      ],
      "execution_count": null,
      "outputs": []
    },
    {
      "cell_type": "markdown",
      "metadata": {
        "id": "8QizaqrUL62E"
      },
      "source": [
        "## Q19. 그루핑\n",
        "> 다음과 같은 문자열에서 휴대폰 번호 뒷자리인 숫자 4개를 ####로 바꾸는 프로그램을 정규식을 사용하여 작성하시오.\n",
        "\n",
        "```\n",
        "park 010-9999-9988\n",
        "kim 010-9909-7789\n",
        "lee 010-8789-7768\n",
        "```\n"
      ]
    },
    {
      "cell_type": "code",
      "metadata": {
        "id": "bfRvchIlL62H"
      },
      "source": [
        "# [Q19] Code\n",
        "\n"
      ],
      "execution_count": null,
      "outputs": []
    },
    {
      "cell_type": "markdown",
      "metadata": {
        "id": "0DumiUQoL7jk"
      },
      "source": [
        "## Q20. 전방 탐색\n",
        "> 다음은 이메일 주소를 나타내는 정규식이다. 이 정규식은 park@naver.com, kim@daum.net, lee@myhome.co.kr 등과 매치된다. 긍정형 전방 탐색 기법을 사용하여 .com, .net이 아닌 이메일 주소는 제외시키는 정규식을 작성하시오.\n",
        "\n",
        "```\n",
        ".*[@].*[.].*$\n",
        "```\n"
      ]
    },
    {
      "cell_type": "code",
      "metadata": {
        "id": "9S9UUOkFL7jl"
      },
      "source": [
        "# [Q20] Code\n",
        "\n"
      ],
      "execution_count": null,
      "outputs": []
    },
    {
      "cell_type": "markdown",
      "metadata": {
        "id": "2ljBDShkbqZO"
      },
      "source": [
        "## 코딩 연습 결과를 github에 올리기\n",
        "> 완성된 ipython 노트북 파일을 각자의 github에 올리시오.\n",
        "\n",
        "- github 계정 만들기 (계정이 없는 학생)\n",
        "    1. github에 sign up (Google gmail 계정을 이용해서 만드시오.)\n",
        "- github에 노트 올리기\n",
        "    2. github에 각자의 id로 repo를 만드시오. (한번 만들면 계속 재사용)\n",
        "    3. github repo에 연습결과 노트를 올리시오.\n",
        "        - 제출노트: ch8_exercises_id.ipynb\n"
      ]
    },
    {
      "cell_type": "code",
      "metadata": {
        "id": "OnCR-YNCc8B6"
      },
      "source": [
        ""
      ],
      "execution_count": null,
      "outputs": []
    }
  ]
}